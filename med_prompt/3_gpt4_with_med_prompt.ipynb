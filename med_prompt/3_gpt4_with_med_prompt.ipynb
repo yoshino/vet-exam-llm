{
 "cells": [
  {
   "cell_type": "markdown",
   "metadata": {},
   "source": [
    "# GPT4 with MedPrompt"
   ]
  },
  {
   "cell_type": "code",
   "execution_count": 1,
   "metadata": {},
   "outputs": [],
   "source": [
    "import pandas as pd\n",
    "\n",
    "exam74_df = pd.read_csv('../data/gpt4-with-cot-template/exam-74-result-manual-format.csv')\n",
    "exam74_df = exam74_df[exam74_df['result_with_cot'] == False] "
   ]
  },
  {
   "cell_type": "code",
   "execution_count": 2,
   "metadata": {},
   "outputs": [
    {
     "name": "stdout",
     "output_type": "stream",
     "text": [
      "count:  10\n"
     ]
    },
    {
     "data": {
      "text/html": [
       "<div>\n",
       "<style scoped>\n",
       "    .dataframe tbody tr th:only-of-type {\n",
       "        vertical-align: middle;\n",
       "    }\n",
       "\n",
       "    .dataframe tbody tr th {\n",
       "        vertical-align: top;\n",
       "    }\n",
       "\n",
       "    .dataframe thead th {\n",
       "        text-align: right;\n",
       "    }\n",
       "</style>\n",
       "<table border=\"1\" class=\"dataframe\">\n",
       "  <thead>\n",
       "    <tr style=\"text-align: right;\">\n",
       "      <th></th>\n",
       "      <th>no</th>\n",
       "      <th>question</th>\n",
       "      <th>answer_choices</th>\n",
       "      <th>answer</th>\n",
       "      <th>response</th>\n",
       "      <th>result</th>\n",
       "      <th>response_with_cot</th>\n",
       "      <th>result_with_cot</th>\n",
       "    </tr>\n",
       "  </thead>\n",
       "  <tbody>\n",
       "    <tr>\n",
       "      <th>0</th>\n",
       "      <td>問5</td>\n",
       "      <td>牛の創傷性心外膜炎と関連のある病変・病態として最も適当なのはどれか。</td>\n",
       "      <td>１．心タンポナーデ\\n２．うっ血性心不全\\n３．心内膜の逆流性病変\\n４．虎斑心\\n５．真珠病</td>\n",
       "      <td>2</td>\n",
       "      <td>4.0</td>\n",
       "      <td>False</td>\n",
       "      <td>創傷性心外膜炎は、心外膜の炎症を伴う病態であり、牛ではしばしば外傷や感染によって引き起こされ...</td>\n",
       "      <td>False</td>\n",
       "    </tr>\n",
       "    <tr>\n",
       "      <th>2</th>\n",
       "      <td>問8</td>\n",
       "      <td>兎出血病に関する記述として正しいのはどれか。</td>\n",
       "      <td>１．病原体はフラビウイルス科に属する。\\n２．感染経路は節足動物による生物学的伝播である。\\...</td>\n",
       "      <td>5</td>\n",
       "      <td>4.0</td>\n",
       "      <td>False</td>\n",
       "      <td>兎出血病（Rabbit Hemorrhagic Disease, RHD）に関する記述を検討...</td>\n",
       "      <td>False</td>\n",
       "    </tr>\n",
       "    <tr>\n",
       "      <th>4</th>\n",
       "      <td>問10</td>\n",
       "      <td>トリ白血病・肉腫（鶏白血病）に関する記述として適切なのはどれか。</td>\n",
       "      <td>１．病原ウイルスは血清学的に単一である。\\n２．垂直感染しない。\\n３．増殖欠損型ウイルスは...</td>\n",
       "      <td>3</td>\n",
       "      <td>5.0</td>\n",
       "      <td>False</td>\n",
       "      <td>それぞれの選択肢について検討してみましょう。\\n\\n1. 病原ウイルスは血清学的に単一である...</td>\n",
       "      <td>False</td>\n",
       "    </tr>\n",
       "    <tr>\n",
       "      <th>5</th>\n",
       "      <td>問11</td>\n",
       "      <td>衛星現象を示す病原体による疾患はどれか。</td>\n",
       "      <td>a  グレーサー病\\nb  伝染性コリーザ\\nc  腺疫\\nd  牛の出血性敗血症\\ne  ...</td>\n",
       "      <td>1</td>\n",
       "      <td>3.0</td>\n",
       "      <td>False</td>\n",
       "      <td>衛星現象は、一部の細菌が成長する際に、他の細菌が産生する特定の成長因子（例えばヘミンやNAD...</td>\n",
       "      <td>False</td>\n",
       "    </tr>\n",
       "    <tr>\n",
       "      <th>7</th>\n",
       "      <td>問16</td>\n",
       "      <td>ウサギのエンセファリトゾーン症またはその病原体に関する記述として適切なのはどれか。</td>\n",
       "      <td>１．犬にも感染する。\\n２．主症状は水様下痢である。\\n３．栄養型虫体は鞭毛をもつ。\\n４．...</td>\n",
       "      <td>1</td>\n",
       "      <td>5.0</td>\n",
       "      <td>False</td>\n",
       "      <td>ウサギのエンセファリトゾーン症は、エンセファリトゾーン・カニクリの原虫によって引き起こされる...</td>\n",
       "      <td>False</td>\n",
       "    </tr>\n",
       "  </tbody>\n",
       "</table>\n",
       "</div>"
      ],
      "text/plain": [
       "    no                                   question  \\\n",
       "0   問5         牛の創傷性心外膜炎と関連のある病変・病態として最も適当なのはどれか。   \n",
       "2   問8                     兎出血病に関する記述として正しいのはどれか。   \n",
       "4  問10           トリ白血病・肉腫（鶏白血病）に関する記述として適切なのはどれか。   \n",
       "5  問11                       衛星現象を示す病原体による疾患はどれか。   \n",
       "7  問16  ウサギのエンセファリトゾーン症またはその病原体に関する記述として適切なのはどれか。   \n",
       "\n",
       "                                      answer_choices  answer  response  \\\n",
       "0    １．心タンポナーデ\\n２．うっ血性心不全\\n３．心内膜の逆流性病変\\n４．虎斑心\\n５．真珠病       2       4.0   \n",
       "2  １．病原体はフラビウイルス科に属する。\\n２．感染経路は節足動物による生物学的伝播である。\\...       5       4.0   \n",
       "4  １．病原ウイルスは血清学的に単一である。\\n２．垂直感染しない。\\n３．増殖欠損型ウイルスは...       3       5.0   \n",
       "5  a  グレーサー病\\nb  伝染性コリーザ\\nc  腺疫\\nd  牛の出血性敗血症\\ne  ...       1       3.0   \n",
       "7  １．犬にも感染する。\\n２．主症状は水様下痢である。\\n３．栄養型虫体は鞭毛をもつ。\\n４．...       1       5.0   \n",
       "\n",
       "   result                                  response_with_cot result_with_cot  \n",
       "0   False  創傷性心外膜炎は、心外膜の炎症を伴う病態であり、牛ではしばしば外傷や感染によって引き起こされ...           False  \n",
       "2   False  兎出血病（Rabbit Hemorrhagic Disease, RHD）に関する記述を検討...           False  \n",
       "4   False  それぞれの選択肢について検討してみましょう。\\n\\n1. 病原ウイルスは血清学的に単一である...           False  \n",
       "5   False  衛星現象は、一部の細菌が成長する際に、他の細菌が産生する特定の成長因子（例えばヘミンやNAD...           False  \n",
       "7   False  ウサギのエンセファリトゾーン症は、エンセファリトゾーン・カニクリの原虫によって引き起こされる...           False  "
      ]
     },
     "execution_count": 2,
     "metadata": {},
     "output_type": "execute_result"
    }
   ],
   "source": [
    "print('count: ', len(exam74_df))\n",
    "exam74_df.head()"
   ]
  },
  {
   "cell_type": "markdown",
   "metadata": {},
   "source": [
    "### Answer with COT template"
   ]
  },
  {
   "cell_type": "code",
   "execution_count": 3,
   "metadata": {},
   "outputs": [],
   "source": [
    "from src.med_prompt import answer_with_cot_template\n",
    "\n",
    "exam74_list = exam74_df.to_dict('records')\n",
    "item = exam74_list[0]\n",
    "response = answer_with_cot_template(item['question'], item['answer_choices'])"
   ]
  },
  {
   "cell_type": "code",
   "execution_count": 7,
   "metadata": {},
   "outputs": [
    {
     "name": "stdout",
     "output_type": "stream",
     "text": [
      "answer:  2\n",
      "創傷性心外膜炎は、心外膜の炎症であり、通常は外傷や感染によって引き起こされます。牛では、特に金属線などの異物が食道を通過し、心外膜に達して損傷を与えることがあります。これにより、心外膜炎が発生し、心膜腔に液体や炎症性の排出物が溜まることがあります。これが心タンポナーデを引き起こす可能性があります。心タンポナーデは、心膜腔内の液体が増加し、心臓が正常に拡張できなくなる状態です。\n",
      "\n",
      "選択肢を見てみましょう：\n",
      "\n",
      "1. 心タンポナーデ - 創傷性心外膜炎によって心膜腔内に液体が溜まり、心臓の拡張を妨げる可能性があるため、これが最も関連する病変・病態です。\n",
      "\n",
      "2. うっ血性心不全 - これは心臓のポンプ機能の障害によって起こる状態であり、創傷性心外膜炎とは直接的な関連はありません。\n",
      "\n",
      "3. 心内膜の逆流性病変 - これは心臓弁の機能不全に関連する病変であり、創傷性心外膜炎とは異なります。\n",
      "\n",
      "4. 虎斑心 - これは心筋の病変であり、創傷性心外膜炎とは直接的な関連はありません。\n",
      "\n",
      "5. 真珠病 - これは結核に関連する病変であり、創傷性心外膜炎とは異なります。\n",
      "\n",
      "したがって、創傷性心外膜炎と関連のある病変・病態として最も適当なのは心タンポナーデです。\n",
      "\n",
      "答えは1です。\n"
     ]
    }
   ],
   "source": [
    "print('answer: ', item['answer'])\n",
    "print(response.choices[0].message.content)"
   ]
  },
  {
   "cell_type": "markdown",
   "metadata": {},
   "source": [
    "### Answer with MedPrompt"
   ]
  },
  {
   "cell_type": "code",
   "execution_count": 9,
   "metadata": {},
   "outputs": [],
   "source": [
    "from src.med_prompt import answer_with_med_prompt\n",
    "\n",
    "exam74_list = exam74_df.to_dict('records')\n",
    "item = exam74_list[0]\n",
    "response = answer_with_med_prompt(item['question'], item['answer_choices'])"
   ]
  },
  {
   "cell_type": "code",
   "execution_count": 11,
   "metadata": {},
   "outputs": [
    {
     "name": "stdout",
     "output_type": "stream",
     "text": [
      "answer:  2\n",
      "全ての回答が「心タンポナーデ」を創傷性心外膜炎に関連する最も重要な病態として挙げています。したがって、多数決により、答えは「1. 心タンポナーデ」です。\n"
     ]
    }
   ],
   "source": [
    "print('answer: ', item['answer'])\n",
    "print(response.choices[0].message.content)"
   ]
  },
  {
   "cell_type": "code",
   "execution_count": 12,
   "metadata": {},
   "outputs": [],
   "source": [
    "item = exam74_list[1]\n",
    "response = answer_with_med_prompt(item['question'], item['answer_choices'])"
   ]
  },
  {
   "cell_type": "code",
   "execution_count": 13,
   "metadata": {},
   "outputs": [
    {
     "name": "stdout",
     "output_type": "stream",
     "text": [
      "answer:  5\n",
      "All three responses agree on the following points:\n",
      "\n",
      "- The causative agent of Rabbit Hemorrhagic Disease (RHD) belongs to the Caliciviridae family, not the Flaviviridae family.\n",
      "- The primary transmission route is not through arthropods but rather through direct contact, contaminated excretions, or materials.\n",
      "- The disease mainly affects rabbits older than 2 months of age.\n",
      "- Rabbit Hemorrhagic Disease is designated as a livestock infectious disease under Japan's Livestock Infectious Diseases Control Law.\n",
      "\n",
      "There is a discrepancy in the statements regarding whether the disease has been occurring sporadically in Japan since 1994, with one response asserting that there have been no reports of sporadic occurrences since 1994, while another suggests that it has occurred sporadically without providing definitive evidence.\n",
      "\n",
      "However, since all three responses agree on the correct answer being the designation of Rabbit Hemorrhagic Disease under the Livestock Infectious Diseases Control Law, the majority vote leads to the conclusion that the correct answer is 4, which indicates that RHD is specified as a livestock infectious disease under this law.\n"
     ]
    }
   ],
   "source": [
    "print('answer: ', item['answer'])\n",
    "print(response.choices[0].message.content)"
   ]
  }
 ],
 "metadata": {
  "kernelspec": {
   "display_name": ".venv",
   "language": "python",
   "name": "python3"
  },
  "language_info": {
   "codemirror_mode": {
    "name": "ipython",
    "version": 3
   },
   "file_extension": ".py",
   "mimetype": "text/x-python",
   "name": "python",
   "nbconvert_exporter": "python",
   "pygments_lexer": "ipython3",
   "version": "3.11.2"
  }
 },
 "nbformat": 4,
 "nbformat_minor": 2
}
