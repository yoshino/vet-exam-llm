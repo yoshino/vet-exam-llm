{
 "cells": [
  {
   "cell_type": "markdown",
   "metadata": {},
   "source": [
    "# GPT4 with COT template"
   ]
  },
  {
   "cell_type": "code",
   "execution_count": 2,
   "metadata": {},
   "outputs": [],
   "source": [
    "import chromadb\n",
    "from chromadb.utils import embedding_functions\n",
    "\n",
    "cot_template_chromadb_path = \"../chromadb/\"\n",
    "client = chromadb.PersistentClient(path=cot_template_chromadb_path)"
   ]
  },
  {
   "cell_type": "code",
   "execution_count": 3,
   "metadata": {},
   "outputs": [],
   "source": [
    "collection = client.get_collection(\n",
    "    name=\"cot_template\",\n",
    ")"
   ]
  },
  {
   "cell_type": "code",
   "execution_count": 17,
   "metadata": {},
   "outputs": [],
   "source": [
    "import openai\n",
    "from dotenv import load_dotenv\n",
    "\n",
    "load_dotenv(verbose=True)\n",
    "\n",
    "openai_client = openai.OpenAI()\n",
    "\n",
    "def chat_completions(messages):\n",
    "    response = openai_client.chat.completions.create(\n",
    "        model=\"gpt-4-1106-preview\",\n",
    "        messages=messages,\n",
    "        max_tokens=4096,\n",
    "        temperature=0\n",
    "    )\n",
    "    return response"
   ]
  },
  {
   "cell_type": "code",
   "execution_count": 4,
   "metadata": {},
   "outputs": [],
   "source": [
    "USER_PROMPT = \"\"\"\n",
    "{cot_template1}\n",
    "\n",
    "{cot_template2}\n",
    "\n",
    "{cot_template3}\n",
    "\n",
    "## Question: {question}\n",
    "{answer_choices}\n",
    "\n",
    "## Answer\n",
    "model generated chain of thought explanation\n",
    "Therefore, the answer is [final model answer (e.g. 1,2,3,4,5)]\n",
    "\"\"\"\n",
    "\n",
    "def build_messages(question, answer_choices, cot_template1, cot_template2, cot_template3):\n",
    "    return [\n",
    "        {\n",
    "            \"role\": \"user\",\n",
    "            \"content\": USER_PROMPT.format(\n",
    "                question=question,\n",
    "                answer_choices=answer_choices,\n",
    "                cot_template1=cot_template1,\n",
    "                cot_template2=cot_template2,\n",
    "                cot_template3=cot_template3\n",
    "            )\n",
    "        }\n",
    "\n",
    "    ]"
   ]
  },
  {
   "cell_type": "code",
   "execution_count": 5,
   "metadata": {},
   "outputs": [],
   "source": [
    "def answer_with_cot_template(item):\n",
    "    embedding = openai_client.embeddings.create(input = [item[\"question\"]], model=\"text-embedding-ada-002\").data[0].embedding\n",
    "    \n",
    "    cot_template = collection.query(\n",
    "        query_embeddings=[embedding],\n",
    "        n_results=3,\n",
    "    )\n",
    "\n",
    "    response = chat_completions(\n",
    "        messages=build_messages(\n",
    "            question=item[\"question\"],\n",
    "            answer_choices=item[\"answer_choices\"],\n",
    "            cot_template1=cot_template['documents'][0][0],\n",
    "            cot_template2=cot_template['documents'][0][1],\n",
    "            cot_template3=cot_template['documents'][0][2],\n",
    "        )\n",
    "    )\n",
    "    return response"
   ]
  },
  {
   "cell_type": "code",
   "execution_count": 10,
   "metadata": {},
   "outputs": [
    {
     "data": {
      "text/plain": [
       "20"
      ]
     },
     "execution_count": 10,
     "metadata": {},
     "output_type": "execute_result"
    }
   ],
   "source": [
    "import pandas as pd\n",
    "\n",
    "exam74_df = pd.read_csv('../data/simple-gpt4/exam-74-result.csv')\n",
    "exam74_false_df = exam74_df[exam74_df['result'] == False]\n"
   ]
  },
  {
   "cell_type": "code",
   "execution_count": 15,
   "metadata": {},
   "outputs": [],
   "source": [
    "exam74_false_list = exam74_false_df.to_dict('records')"
   ]
  },
  {
   "cell_type": "code",
   "execution_count": 24,
   "metadata": {},
   "outputs": [
    {
     "name": "stdout",
     "output_type": "stream",
     "text": [
      "0\n",
      "1\n",
      "2\n",
      "3\n",
      "4\n",
      "5\n",
      "6\n",
      "7\n",
      "8\n",
      "9\n",
      "10\n",
      "11\n",
      "12\n",
      "13\n",
      "14\n",
      "15\n",
      "16\n",
      "17\n",
      "18\n",
      "19\n"
     ]
    }
   ],
   "source": [
    "result74 = []\n",
    "for i, item in enumerate(exam74_false_list):\n",
    "    print(i)\n",
    "    response = answer_with_cot_template(item)\n",
    "    item['response_with_cot'] = response.choices[0].message.content\n",
    "    result74.append(item)\n"
   ]
  },
  {
   "cell_type": "code",
   "execution_count": 25,
   "metadata": {},
   "outputs": [],
   "source": [
    "result74_df = pd.DataFrame(result74)\n",
    "result74_df.to_csv('../data/gpt4-with-cot-template/exam-74-result.csv', index=False)"
   ]
  },
  {
   "cell_type": "code",
   "execution_count": 1,
   "metadata": {},
   "outputs": [],
   "source": [
    "import pandas as pd\n",
    "\n",
    "result74_manual_format_df = pd.read_csv('../data/gpt4-with-cot-template/exam-74-result-manual-format.csv')"
   ]
  },
  {
   "cell_type": "code",
   "execution_count": 3,
   "metadata": {},
   "outputs": [
    {
     "name": "stdout",
     "output_type": "stream",
     "text": [
      "45.0\n"
     ]
    }
   ],
   "source": [
    "print(len(result74_manual_format_df[result74_manual_format_df['result_with_cot'] == True]) / len(result74_manual_format_df) * 100)"
   ]
  }
 ],
 "metadata": {
  "kernelspec": {
   "display_name": ".venv",
   "language": "python",
   "name": "python3"
  },
  "language_info": {
   "codemirror_mode": {
    "name": "ipython",
    "version": 3
   },
   "file_extension": ".py",
   "mimetype": "text/x-python",
   "name": "python",
   "nbconvert_exporter": "python",
   "pygments_lexer": "ipython3",
   "version": "3.11.2"
  }
 },
 "nbformat": 4,
 "nbformat_minor": 2
}
