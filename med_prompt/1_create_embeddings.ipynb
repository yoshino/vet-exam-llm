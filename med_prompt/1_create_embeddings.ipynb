{
 "cells": [
  {
   "cell_type": "markdown",
   "metadata": {},
   "source": [
    "# Create embeddings"
   ]
  },
  {
   "cell_type": "code",
   "execution_count": 12,
   "metadata": {},
   "outputs": [],
   "source": [
    "import chromadb\n",
    "from chromadb.utils import embedding_functions\n",
    "\n",
    "cot_template_chromadb_path = \"../chromadb/\"\n",
    "client = chromadb.PersistentClient(path=cot_template_chromadb_path)"
   ]
  },
  {
   "cell_type": "code",
   "execution_count": 13,
   "metadata": {},
   "outputs": [],
   "source": [
    "collection = client.create_collection(\n",
    "    name=\"cot_template\",\n",
    ")"
   ]
  },
  {
   "cell_type": "code",
   "execution_count": 14,
   "metadata": {},
   "outputs": [],
   "source": [
    "import csv\n",
    "from openai import OpenAI\n",
    "\n",
    "openai_client = OpenAI()\n",
    "\n",
    "with open(f'../data/cot-template/exam-72-result.csv', mode='r', encoding='utf-8') as file:\n",
    "    reader = csv.DictReader(file)\n",
    "    exam_result = [row for row in reader]"
   ]
  },
  {
   "cell_type": "code",
   "execution_count": 15,
   "metadata": {},
   "outputs": [],
   "source": [
    "COT_TEMPLATE = \"\"\"\n",
    "## Question: {question}\n",
    "{answer_choices}\n",
    "## Answer\n",
    "{response}\n",
    "\"\"\""
   ]
  },
  {
   "cell_type": "code",
   "execution_count": 16,
   "metadata": {},
   "outputs": [],
   "source": [
    "def add_collection(collection, exam_result):\n",
    "    ids=[]\n",
    "    metadatas=[]\n",
    "    documents=[]\n",
    "    embeddings=[]\n",
    "    for item in exam_result:\n",
    "        embedding = openai_client.embeddings.create(input = [item[\"question\"]], model=\"text-embedding-ada-002\").data[0].embedding\n",
    "        document = COT_TEMPLATE.format(\n",
    "            question=item[\"question\"],\n",
    "            answer_choices=item[\"answer_choices\"],\n",
    "            response=item[\"response\"]\n",
    "        )\n",
    "        \n",
    "        ids.append(f\"72-{item['no']}\")\n",
    "        documents.append(document)\n",
    "        metadatas.append({'exam': 72, 'question_no': item['no']})\n",
    "        embeddings.append(embedding) \n",
    "\n",
    "    collection.add(\n",
    "        documents=documents,\n",
    "        embeddings=embeddings,\n",
    "        metadatas=metadatas,\n",
    "        ids=ids\n",
    "    )"
   ]
  },
  {
   "cell_type": "code",
   "execution_count": 17,
   "metadata": {},
   "outputs": [],
   "source": [
    "add_collection(collection, exam_result)"
   ]
  },
  {
   "cell_type": "markdown",
   "metadata": {},
   "source": []
  },
  {
   "cell_type": "code",
   "execution_count": 18,
   "metadata": {},
   "outputs": [
    {
     "data": {
      "text/plain": [
       "12"
      ]
     },
     "execution_count": 18,
     "metadata": {},
     "output_type": "execute_result"
    }
   ],
   "source": [
    "collection.count()"
   ]
  }
 ],
 "metadata": {
  "kernelspec": {
   "display_name": ".venv",
   "language": "python",
   "name": "python3"
  },
  "language_info": {
   "codemirror_mode": {
    "name": "ipython",
    "version": 3
   },
   "file_extension": ".py",
   "mimetype": "text/x-python",
   "name": "python",
   "nbconvert_exporter": "python",
   "pygments_lexer": "ipython3",
   "version": "3.11.2"
  }
 },
 "nbformat": 4,
 "nbformat_minor": 2
}
