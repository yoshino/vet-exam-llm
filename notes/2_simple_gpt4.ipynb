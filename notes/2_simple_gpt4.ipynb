{
 "cells": [
  {
   "cell_type": "markdown",
   "metadata": {},
   "source": [
    "# Simple GPT4"
   ]
  },
  {
   "cell_type": "code",
   "execution_count": 2,
   "metadata": {},
   "outputs": [],
   "source": [
    "import openai\n",
    "from dotenv import load_dotenv\n",
    "\n",
    "load_dotenv(verbose=True)\n",
    "\n",
    "client = openai.OpenAI()\n",
    "\n",
    "def chat_completions(messages):\n",
    "    response = client.chat.completions.create(\n",
    "        model=\"gpt-4-1106-preview\",\n",
    "        messages=messages,\n",
    "        max_tokens=4096,\n",
    "        temperature=0\n",
    "    )\n",
    "    return response"
   ]
  },
  {
   "cell_type": "code",
   "execution_count": 22,
   "metadata": {},
   "outputs": [],
   "source": [
    "USER_PROMPT = \"\"\"\n",
    "## Question: {question}\n",
    "{answer_choices}\n",
    "## Answer\n",
    "the answer is [final model answer (e.g. 1,2,3,4,5)]\n",
    "you can use 1,2,3,4,5 to represent the answer choices.\n",
    "Don't use the actual answer choice text.\n",
    "\"\"\"\n"
   ]
  },
  {
   "cell_type": "code",
   "execution_count": 47,
   "metadata": {},
   "outputs": [],
   "source": [
    "import csv\n",
    "import pandas as pd\n",
    "\n",
    "def exam_result(exam_no):\n",
    "    with open(f'../data/processed/exam-{exam_no}.csv', mode='r', encoding='utf-8') as file:\n",
    "        reader = csv.DictReader(file)\n",
    "        dict_list = [row for row in reader]\n",
    "    \n",
    "    for i, item in enumerate(dict_list):\n",
    "        messages = [\n",
    "            {\n",
    "                \"role\": \"user\",\n",
    "                \"content\": USER_PROMPT.format(\n",
    "                    question=item['question'],\n",
    "                    answer_choices=item['answer_choices']\n",
    "                )\n",
    "            }\n",
    "        ]\n",
    "        response = chat_completions(messages)\n",
    "        content = response.choices[0].message.content\n",
    "        try:\n",
    "            answer = int(content.split('．')[0])\n",
    "            dict_list[i]['response'] = answer\n",
    "            dict_list[i]['result'] = (answer == int(dict_list[i]['answer']))\n",
    "        except:\n",
    "            print(f'content: {content}, item: {item}')\n",
    "    \n",
    "    exam_result_df = pd.DataFrame(dict_list)\n",
    "    return exam_result_df"
   ]
  },
  {
   "cell_type": "markdown",
   "metadata": {},
   "source": [
    "### exam-74"
   ]
  },
  {
   "cell_type": "code",
   "execution_count": 48,
   "metadata": {},
   "outputs": [
    {
     "name": "stdout",
     "output_type": "stream",
     "text": [
      "content: 3, item: {'no': '問15', 'question': 'みつばちの真菌感染症はどれか。', 'answer_choices': '１．アメリカ腐蛆病\\n２．ヨーロッパ腐蛆病\\n３．チョーク病\\n４．ノゼマ症\\n５．バロア症\\n5', 'answer': '3,4', 'response': 3}\n",
      "content: 2,5, item: {'no': '問21', 'question': '食品の微生物汚染またはその制御に関する記述として適切なのはどれか。', 'answer_choices': '１．食品の貯蔵、加工、調理の過程における微生物汚染を一次汚染という。\\n２．食品の水分活性が低いほど細菌による腐敗は抑制される。\\n３．硫化水素は微生物によるデンプンの分解で発生する。\\n４．紫外線照射によって食品内部を殺菌できる。\\n５．我が国では放射線照射による香辛料の殺菌が認められている。\\n7', 'answer': '2'}\n",
      "content: 1,2,3,4,5, item: {'no': '問24', 'question': '生食用食肉の成分規格項目はどれか。', 'answer_choices': '１．一般細菌数\\n２．腸内細菌科菌群\\n３．大腸菌群\\n４．E. coli\\n５．サルモネラ属菌\\n8', 'answer': '2'}\n",
      "content: 1,2,3,4,5, item: {'no': '問31', 'question': '医療関係機関等から発生する感染性一般廃棄物はどれか。', 'answer_choices': '１．凝固血液\\n２．血液検査に使用したガラス製試験管\\n３．血液の付着したガーゼ\\n４．使用済みの注射針\\n５．腸管出血性大腸菌の分離に用いたプラスチック製シャーレ', 'answer': '3'}\n",
      "content: 1, item: {'no': '問54', 'question': '牛の第四胃右方変位の治療法として適切でないのはどれか。', 'answer_choices': '１．高張食塩液の輸液\\n２．起立位右けん部切開・大網固定法\\n３．仰臥位傍正中切開・第四胃固定法\\n４．牛体回転整復法\\n５．バー・スーチャー法（びんつり法）\\n18', 'answer': '4,5', 'response': 1}\n",
      "content: 3,5, item: {'no': '問71', 'question': '牛の黄体囊腫に関する記述として適切なのはどれか。', 'answer_choices': '１．飼料中のエネルギー不足が原因である。\\n２．持続性発情がみられる。\\n３．直腸検査で波動感がある大型構造物を触診できる。\\n４．血中プロジェステロン濃度は 1 ng/ml 未満である。\\n５．治療には性腺刺激ホルモン放出ホルモン（GnRH）製剤が有効である。', 'answer': '3,5'}\n",
      "content: ４, item: {'no': '問79', 'question': 'ブリ類の鰓に感染する病原体はどれか。', 'answer_choices': '１．Ichthyophonus hoferi\\n２．Microsporidium seriolae\\n３．Myxobolus acanthogobii\\n４．Benedenia seriolae\\n５．Heteraxine heterocerca', 'answer': '1,5', 'response': 4}\n"
     ]
    }
   ],
   "source": [
    "exam_result_df = exam_result(74)"
   ]
  },
  {
   "cell_type": "code",
   "execution_count": 56,
   "metadata": {},
   "outputs": [],
   "source": [
    "exam_result_df.loc[exam_result_df[exam_result_df[\"no\"] == '問15'].index, 'result'] = True\n",
    "exam_result_df.loc[exam_result_df[exam_result_df[\"no\"] == '問54'].index, 'result'] = True\n",
    "exam_result_df.loc[exam_result_df[exam_result_df[\"no\"] == '問71'].index, 'result'] = True\n",
    "exam_result_df.loc[exam_result_df[exam_result_df[\"no\"] == '問79'].index, 'result'] = True"
   ]
  },
  {
   "cell_type": "code",
   "execution_count": 61,
   "metadata": {},
   "outputs": [],
   "source": [
    "exam_result_df.to_csv('../data/simple-gpt4/exam-74-result.csv', index=False)"
   ]
  },
  {
   "cell_type": "code",
   "execution_count": 60,
   "metadata": {},
   "outputs": [
    {
     "name": "stdout",
     "output_type": "stream",
     "text": [
      "score:  71.25 %\n"
     ]
    }
   ],
   "source": [
    "score = len(exam_result_df[exam_result_df['result'] == True]) / 80\n",
    "print('score: ', score * 100, '%')"
   ]
  },
  {
   "cell_type": "markdown",
   "metadata": {},
   "source": [
    "### exam-73"
   ]
  },
  {
   "cell_type": "code",
   "execution_count": 62,
   "metadata": {},
   "outputs": [],
   "source": [
    "exam_result_df = exam_result(73)"
   ]
  },
  {
   "cell_type": "code",
   "execution_count": 65,
   "metadata": {},
   "outputs": [],
   "source": [
    "exam_result_df.to_csv('../data/processed/simple-gpt4/exam-73-result.csv', index=False)"
   ]
  },
  {
   "cell_type": "code",
   "execution_count": 64,
   "metadata": {},
   "outputs": [
    {
     "name": "stdout",
     "output_type": "stream",
     "text": [
      "score:  68.75 %\n"
     ]
    }
   ],
   "source": [
    "score = len(exam_result_df[exam_result_df['result'] == True]) / 80\n",
    "print('score: ', score * 100, '%')"
   ]
  }
 ],
 "metadata": {
  "kernelspec": {
   "display_name": ".venv",
   "language": "python",
   "name": "python3"
  },
  "language_info": {
   "codemirror_mode": {
    "name": "ipython",
    "version": 3
   },
   "file_extension": ".py",
   "mimetype": "text/x-python",
   "name": "python",
   "nbconvert_exporter": "python",
   "pygments_lexer": "ipython3",
   "version": "3.11.2"
  }
 },
 "nbformat": 4,
 "nbformat_minor": 2
}
