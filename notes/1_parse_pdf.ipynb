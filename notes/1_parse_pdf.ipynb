{
 "cells": [
  {
   "cell_type": "markdown",
   "metadata": {},
   "source": [
    "# Parse PDF"
   ]
  },
  {
   "cell_type": "code",
   "execution_count": 1,
   "metadata": {},
   "outputs": [
    {
     "name": "stderr",
     "output_type": "stream",
     "text": [
      "/Users/yoshino/src/github.com/yoshino/vet-exam-llm/.venv/lib/python3.11/site-packages/tqdm/auto.py:21: TqdmWarning: IProgress not found. Please update jupyter and ipywidgets. See https://ipywidgets.readthedocs.io/en/stable/user_install.html\n",
      "  from .autonotebook import tqdm as notebook_tqdm\n"
     ]
    }
   ],
   "source": [
    "import pandas as pd\n",
    "\n",
    "from src.parse_question_pdf import convert_question_pdf_to_df\n",
    "from src.parse_answer_pdf import convert_answer_pdf_to_df"
   ]
  },
  {
   "cell_type": "code",
   "execution_count": 5,
   "metadata": {},
   "outputs": [
    {
     "name": "stdout",
     "output_type": "stream",
     "text": [
      "71\n"
     ]
    }
   ],
   "source": [
    "exam_nos = [71]\n",
    "for no in exam_nos:\n",
    "    print(no)\n",
    "    target_page = 0 if no == 70 else 1\n",
    "    question_df = convert_question_pdf_to_df(f\"../data/original/question-{no}.pdf\")\n",
    "    answer_df = convert_answer_pdf_to_df(f\"../data/original/answer-{no}.pdf\", target_page)\n",
    "    exam_df = pd.merge(question_df, answer_df, on='no')\n",
    "    exam_df.to_csv(f\"../data/processed/exam-{no}.csv\", index=False)"
   ]
  }
 ],
 "metadata": {
  "kernelspec": {
   "display_name": ".venv",
   "language": "python",
   "name": "python3"
  },
  "language_info": {
   "codemirror_mode": {
    "name": "ipython",
    "version": 3
   },
   "file_extension": ".py",
   "mimetype": "text/x-python",
   "name": "python",
   "nbconvert_exporter": "python",
   "pygments_lexer": "ipython3",
   "version": "3.11.2"
  }
 },
 "nbformat": 4,
 "nbformat_minor": 2
}
