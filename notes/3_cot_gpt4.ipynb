{
 "cells": [
  {
   "cell_type": "markdown",
   "metadata": {},
   "source": [
    "# COT GPT3.5"
   ]
  },
  {
   "cell_type": "code",
   "execution_count": 3,
   "metadata": {},
   "outputs": [],
   "source": [
    "import openai\n",
    "from dotenv import load_dotenv\n",
    "\n",
    "load_dotenv(verbose=True)\n",
    "\n",
    "client = openai.OpenAI()\n",
    "\n",
    "def chat_completions(messages, model=\"gpt-4-1106-preview\"):\n",
    "    response = client.chat.completions.create(\n",
    "        model=model,\n",
    "        messages=messages,\n",
    "        max_tokens=4096,\n",
    "        temperature=0\n",
    "    )\n",
    "    return response"
   ]
  },
  {
   "cell_type": "code",
   "execution_count": 4,
   "metadata": {},
   "outputs": [],
   "source": [
    "USER_PROMPT = \"\"\"\n",
    "## Question: {question}\n",
    "{answer_choices}\n",
    "## Answer\n",
    "model generated chain of thought explanation\n",
    "Therefore, the answer is [final model answer (e.g. 1,2,3,4,5)]\n",
    "\"\"\""
   ]
  },
  {
   "cell_type": "markdown",
   "metadata": {},
   "source": [
    "### GPT-4: 実行時間、コストを推計する"
   ]
  },
  {
   "cell_type": "code",
   "execution_count": 20,
   "metadata": {},
   "outputs": [],
   "source": [
    "import csv\n",
    "import pandas as pd\n",
    "\n",
    "exam_no = 70\n",
    "with open(f'../data/processed/exam-{exam_no}.csv', mode='r', encoding='utf-8') as file:\n",
    "    reader = csv.DictReader(file)\n",
    "    dict_list = [row for row in reader]\n",
    "\n",
    "item = dict_list[10] \n",
    "input =  USER_PROMPT.format(\n",
    "    question=item['question'],\n",
    "    answer_choices=item['answer_choices']\n",
    ")\n",
    "messages = [\n",
    "    {\n",
    "        \"role\": \"user\",\n",
    "        \"content\": input\n",
    "    }\n",
    "]\n",
    "response = chat_completions(messages)\n",
    "output = response.choices[0].message.content"
   ]
  },
  {
   "cell_type": "code",
   "execution_count": 22,
   "metadata": {},
   "outputs": [
    {
     "name": "stdout",
     "output_type": "stream",
     "text": [
      "INPUT:\n",
      "\n",
      "## Question: 薬剤耐性の発現機序に関する記述として適当でないのはどれか。\n",
      "１．R プラスミドが菌種を越えた薬剤耐性遺伝子の拡散に関与している。\n",
      "２．β - ラクタマーゼによりペニシリンが加水分解される。\n",
      "３．流入した薬剤を菌体外へ排出することにより耐性化する。\n",
      "４．外膜ポーリンの構造変化により薬剤透過性が低下して耐性化する。\n",
      "５．抗菌薬による突然変異体の誘発により耐性菌が出現する。\n",
      "## Answer\n",
      "model generated chain of thought explanation\n",
      "Therefore, the answer is [final model answer (e.g. 1,2,3,4,5)]\n",
      "\n",
      "OUTPUT:\n",
      "薬剤耐性の発現機序に関する記述を見ていきましょう。\n",
      "\n",
      "１．R プラスミドが菌種を越えた薬剤耐性遺伝子の拡散に関与している。\n",
      "→これは正しい記述です。Rプラスミドは抗生物質耐性遺伝子を含むことがあり、これが異なる菌種間で転移することによって、耐性が広がることが知られています。\n",
      "\n",
      "２．β - ラクタマーゼによりペニシリンが加水分解される。\n",
      "→これも正しい記述です。β-ラクタマーゼはペニシリンなどのβ-ラクタム系抗生物質を分解する酵素であり、この酵素を産生する菌はペニシリンに対して耐性を持ちます。\n",
      "\n",
      "３．流入した薬剤を菌体外へ排出することにより耐性化する。\n",
      "→これも正しい記述です。多くの耐性菌は、抗生物質を細胞外に排出するポンプ機構を持っており、これによって薬剤の効果を無効化します。\n",
      "\n",
      "４．外膜ポーリンの構造変化により薬剤透過性が低下して耐性化する。\n",
      "→これも正しい記述です。グラム陰性菌の外膜にあるポーリンは、抗生物質などの物質の細胞内への透過を助ける役割を持っていますが、これらの構造が変化することで薬剤の細胞内への進入が阻害され、耐性が生じることがあります。\n",
      "\n",
      "５．抗菌薬による突然変異体の誘発により耐性菌が出現する。\n",
      "→これは適当でない記述です。抗菌薬が突然変異を誘発するわけではありません。耐性菌の出現は、既に存在する耐性遺伝子を持つ菌が抗菌薬の選択圧によって生き残り、増殖することによって起こります。抗菌薬が直接突然変異を誘発するわけではなく、むしろ既存の突然変異や遺伝的変異がある中で、抗菌薬の存在がそれらの変異を持つ菌を選択的に生き残らせることで耐性菌が増えるというのが正しい理解です。\n",
      "\n",
      "したがって、適当でない記述は５です。\n"
     ]
    }
   ],
   "source": [
    "print(\"INPUT:\")\n",
    "print(input)\n",
    "print(\"OUTPUT:\")\n",
    "print(output)"
   ]
  },
  {
   "cell_type": "code",
   "execution_count": 23,
   "metadata": {},
   "outputs": [],
   "source": [
    "import tiktoken\n",
    "from tiktoken.core import Encoding\n",
    "\n",
    "encoding: Encoding = tiktoken.encoding_for_model(\"gpt-4-1106-preview\")"
   ]
  },
  {
   "cell_type": "code",
   "execution_count": 27,
   "metadata": {},
   "outputs": [
    {
     "name": "stdout",
     "output_type": "stream",
     "text": [
      "INPUT TOKENS: 258\n",
      "INPUT COST: 0.0025800000000000003\n",
      "OUTPUT TOKENS: 820\n",
      "OUTPUT COST: 0.024599999999999997\n",
      "TOTAL COST PER QUESTION: 0.027179999999999996\n",
      "TOTAL TIME PER QUESTION: 50s\n",
      "TOTAL COST PER EXAM: 2.1743999999999994\n",
      "TOTAL TIME PER EXAM: 66.67 minutes\n"
     ]
    }
   ],
   "source": [
    "# REF: https://openai.com/pricing\n",
    "# gpt-4-1106-preview input: $0.01 / 1K tokens\toutput: $0.03 / 1K tokens\n",
    "\n",
    "input_tokens = encoding.encode(input)\n",
    "input_tokens_count = len(input_tokens)\n",
    "input_cost = (input_tokens_count / 1000) * 0.01\n",
    "\n",
    "output_tokens = encoding.encode(output)\n",
    "output_tokens_count = len(output_tokens)\n",
    "output_cost = (output_tokens_count / 1000) * 0.03\n",
    "\n",
    "# print result\n",
    "print(f\"INPUT TOKENS: {input_tokens_count}\")\n",
    "print(f\"INPUT COST: {input_cost}\")\n",
    "print(f\"OUTPUT TOKENS: {output_tokens_count}\")\n",
    "print(f\"OUTPUT COST: {output_cost}\")\n",
    "print(f\"TOTAL COST PER QUESTION: {input_cost + output_cost}\")\n",
    "print(f\"TOTAL TIME PER QUESTION: 50s\")\n",
    "print(f\"TOTAL COST PER EXAM: {(input_cost + output_cost) * 80}\")\n",
    "print(f\"TOTAL TIME PER EXAM: 66.67 minutes\")"
   ]
  },
  {
   "cell_type": "markdown",
   "metadata": {},
   "source": [
    "### GPT-3.5: 実行時間、コストを推計する"
   ]
  },
  {
   "cell_type": "code",
   "execution_count": 13,
   "metadata": {},
   "outputs": [],
   "source": [
    "import csv\n",
    "import pandas as pd\n",
    "\n",
    "exam_no = 70\n",
    "with open(f'../data/processed/exam-{exam_no}.csv', mode='r', encoding='utf-8') as file:\n",
    "    reader = csv.DictReader(file)\n",
    "    dict_list = [row for row in reader]\n",
    "\n",
    "item = dict_list[1] \n",
    "input =  USER_PROMPT.format(\n",
    "    question=item['question'],\n",
    "    answer_choices=item['answer_choices']\n",
    ")\n",
    "messages = [\n",
    "    {\n",
    "        \"role\": \"user\",\n",
    "        \"content\": input\n",
    "    }\n",
    "]\n",
    "response = chat_completions(messages, model='gpt-3.5-turbo-1106')\n",
    "output = response.choices[0].message.content"
   ]
  },
  {
   "cell_type": "code",
   "execution_count": 14,
   "metadata": {},
   "outputs": [
    {
     "name": "stdout",
     "output_type": "stream",
     "text": [
      "INPUT:\n",
      "\n",
      "## Question: ホスホジエステラーゼを阻害する気管支喘息の治療薬はどれか。\n",
      "１．テルブタリン\n",
      "２．オザグレル\n",
      "３．テオフィリン\n",
      "４．イプラトロピウム\n",
      "５．クロモグリク酸ナトリウム\n",
      "## Answer\n",
      "model generated chain of thought explanation\n",
      "Therefore, the answer is [final model answer (e.g. 1,2,3,4,5)]\n",
      "\n",
      "OUTPUT:\n",
      "ホスホジエステラーゼを阻害する気管支喘息の治療薬は、テオフィリンです。したがって、答えは３です。\n"
     ]
    }
   ],
   "source": [
    "print(\"INPUT:\")\n",
    "print(input)\n",
    "print(\"OUTPUT:\")\n",
    "print(output)"
   ]
  },
  {
   "cell_type": "markdown",
   "metadata": {},
   "source": [
    "### Exam 72: MedPromptでCOT templateを作成するためのもの"
   ]
  },
  {
   "cell_type": "code",
   "execution_count": 31,
   "metadata": {},
   "outputs": [],
   "source": [
    "import csv\n",
    "import pandas as pd\n",
    "import random\n",
    "\n",
    "def exam_result(exam_no):\n",
    "    with open(f'../data/processed/exam-{exam_no}.csv', mode='r', encoding='utf-8') as file:\n",
    "        reader = csv.DictReader(file)\n",
    "        dict_list = [row for row in reader]\n",
    "\n",
    "    random.shuffle(dict_list)\n",
    "    result_items = []\n",
    "    for i, item in enumerate(dict_list[:20]):\n",
    "        print(i)\n",
    "        messages = [\n",
    "            {\n",
    "                \"role\": \"user\",\n",
    "                \"content\": USER_PROMPT.format(\n",
    "                    question=item['question'],\n",
    "                    answer_choices=item['answer_choices']\n",
    "                )\n",
    "            }\n",
    "        ]\n",
    "        response = chat_completions(messages)\n",
    "        content = response.choices[0].message.content\n",
    "        item['response'] = content\n",
    "        result_items.append(item)\n",
    "    \n",
    "    exam_result_df = pd.DataFrame(result_items)\n",
    "    return exam_result_df"
   ]
  },
  {
   "cell_type": "code",
   "execution_count": 32,
   "metadata": {},
   "outputs": [
    {
     "name": "stdout",
     "output_type": "stream",
     "text": [
      "0\n",
      "1\n",
      "2\n",
      "3\n",
      "4\n",
      "5\n",
      "6\n",
      "7\n",
      "8\n",
      "9\n",
      "10\n",
      "11\n",
      "12\n",
      "13\n",
      "14\n",
      "15\n",
      "16\n",
      "17\n",
      "18\n",
      "19\n"
     ]
    }
   ],
   "source": [
    "exam_result_df = exam_result(72)"
   ]
  },
  {
   "cell_type": "code",
   "execution_count": 33,
   "metadata": {},
   "outputs": [],
   "source": [
    "exam_result_df.to_csv('../data/cot-gpt4/exam-72-result.csv', index=False)"
   ]
  },
  {
   "cell_type": "markdown",
   "metadata": {},
   "source": [
    "### Exam74: GPT4で不正解だったものを対象とする"
   ]
  },
  {
   "cell_type": "code",
   "execution_count": 1,
   "metadata": {},
   "outputs": [],
   "source": [
    "import pandas as pd\n",
    "\n",
    "exam74_df = pd.read_csv('../data/simple-gpt4/exam-74-result.csv')\n",
    "exam74_false_df = exam74_df[exam74_df['result'] == False]"
   ]
  },
  {
   "cell_type": "code",
   "execution_count": 5,
   "metadata": {},
   "outputs": [
    {
     "name": "stdout",
     "output_type": "stream",
     "text": [
      "0\n",
      "1\n",
      "2\n",
      "3\n",
      "4\n",
      "5\n",
      "6\n",
      "7\n",
      "8\n",
      "9\n",
      "10\n",
      "11\n",
      "12\n",
      "13\n",
      "14\n",
      "15\n",
      "16\n",
      "17\n",
      "18\n",
      "19\n"
     ]
    }
   ],
   "source": [
    "exam74_false_list = exam74_false_df.to_dict('records')\n",
    "result74 = []\n",
    "\n",
    "for i, item in enumerate(exam74_false_list):\n",
    "    print(i)\n",
    "    messages = [\n",
    "        {\n",
    "            \"role\": \"user\",\n",
    "            \"content\": USER_PROMPT.format(\n",
    "                question=item['question'],\n",
    "                answer_choices=item['answer_choices']\n",
    "            )\n",
    "        }\n",
    "    ]\n",
    "    response = chat_completions(messages)\n",
    "    content = response.choices[0].message.content\n",
    "    item['response'] = content\n",
    "    result74.append(item)\n",
    "    "
   ]
  },
  {
   "cell_type": "code",
   "execution_count": 6,
   "metadata": {},
   "outputs": [
    {
     "data": {
      "text/html": [
       "<div>\n",
       "<style scoped>\n",
       "    .dataframe tbody tr th:only-of-type {\n",
       "        vertical-align: middle;\n",
       "    }\n",
       "\n",
       "    .dataframe tbody tr th {\n",
       "        vertical-align: top;\n",
       "    }\n",
       "\n",
       "    .dataframe thead th {\n",
       "        text-align: right;\n",
       "    }\n",
       "</style>\n",
       "<table border=\"1\" class=\"dataframe\">\n",
       "  <thead>\n",
       "    <tr style=\"text-align: right;\">\n",
       "      <th></th>\n",
       "      <th>no</th>\n",
       "      <th>question</th>\n",
       "      <th>answer_choices</th>\n",
       "      <th>answer</th>\n",
       "      <th>response</th>\n",
       "      <th>result</th>\n",
       "    </tr>\n",
       "  </thead>\n",
       "  <tbody>\n",
       "    <tr>\n",
       "      <th>0</th>\n",
       "      <td>問5</td>\n",
       "      <td>牛の創傷性心外膜炎と関連のある病変・病態として最も適当なのはどれか。</td>\n",
       "      <td>１．心タンポナーデ\\n２．うっ血性心不全\\n３．心内膜の逆流性病変\\n４．虎斑心\\n５．真珠病</td>\n",
       "      <td>2</td>\n",
       "      <td>牛の創傷性心外膜炎は、心外膜の炎症を伴う病態であり、通常は心外膜と心筋の間に炎症による液体が...</td>\n",
       "      <td>False</td>\n",
       "    </tr>\n",
       "    <tr>\n",
       "      <th>1</th>\n",
       "      <td>問6</td>\n",
       "      <td>マレック病に関する記述として適当なのはどれか。</td>\n",
       "      <td>a  末梢神経線維の腫脹がみられる。\\nb  B リンパ球由来のリンパ腫である。\\nc  大...</td>\n",
       "      <td>2</td>\n",
       "      <td>マレック病は家禽に感染するヘルペスウイルス科のウイルスによって引き起こされる病気です。この病...</td>\n",
       "      <td>False</td>\n",
       "    </tr>\n",
       "    <tr>\n",
       "      <th>2</th>\n",
       "      <td>問8</td>\n",
       "      <td>兎出血病に関する記述として正しいのはどれか。</td>\n",
       "      <td>１．病原体はフラビウイルス科に属する。\\n２．感染経路は節足動物による生物学的伝播である。\\...</td>\n",
       "      <td>5</td>\n",
       "      <td>兎出血病（Rabbit Hemorrhagic Disease, RHD）についての記述を検...</td>\n",
       "      <td>False</td>\n",
       "    </tr>\n",
       "    <tr>\n",
       "      <th>3</th>\n",
       "      <td>問9</td>\n",
       "      <td>クラミジアによる疾患はどれか。</td>\n",
       "      <td>a  牛肺疫\\nb  Q 熱\\nc  オウム病\\nd  流行性羊流産\\ne  仮性皮疽\\n１...</td>\n",
       "      <td>4</td>\n",
       "      <td>クラミジアは細菌の一種であり、様々な疾患を引き起こすことが知られています。選択肢からクラミジ...</td>\n",
       "      <td>False</td>\n",
       "    </tr>\n",
       "    <tr>\n",
       "      <th>4</th>\n",
       "      <td>問10</td>\n",
       "      <td>トリ白血病・肉腫（鶏白血病）に関する記述として適切なのはどれか。</td>\n",
       "      <td>１．病原ウイルスは血清学的に単一である。\\n２．垂直感染しない。\\n３．増殖欠損型ウイルスは...</td>\n",
       "      <td>3</td>\n",
       "      <td>トリ白血病・肉腫（鶏白血病）は、鶏に影響を与えるウイルス性の疾患であり、レトロウイルス科に属...</td>\n",
       "      <td>False</td>\n",
       "    </tr>\n",
       "  </tbody>\n",
       "</table>\n",
       "</div>"
      ],
      "text/plain": [
       "    no                            question  \\\n",
       "0   問5  牛の創傷性心外膜炎と関連のある病変・病態として最も適当なのはどれか。   \n",
       "1   問6             マレック病に関する記述として適当なのはどれか。   \n",
       "2   問8              兎出血病に関する記述として正しいのはどれか。   \n",
       "3   問9                     クラミジアによる疾患はどれか。   \n",
       "4  問10    トリ白血病・肉腫（鶏白血病）に関する記述として適切なのはどれか。   \n",
       "\n",
       "                                      answer_choices answer  \\\n",
       "0    １．心タンポナーデ\\n２．うっ血性心不全\\n３．心内膜の逆流性病変\\n４．虎斑心\\n５．真珠病      2   \n",
       "1  a  末梢神経線維の腫脹がみられる。\\nb  B リンパ球由来のリンパ腫である。\\nc  大...      2   \n",
       "2  １．病原体はフラビウイルス科に属する。\\n２．感染経路は節足動物による生物学的伝播である。\\...      5   \n",
       "3  a  牛肺疫\\nb  Q 熱\\nc  オウム病\\nd  流行性羊流産\\ne  仮性皮疽\\n１...      4   \n",
       "4  １．病原ウイルスは血清学的に単一である。\\n２．垂直感染しない。\\n３．増殖欠損型ウイルスは...      3   \n",
       "\n",
       "                                            response  result  \n",
       "0  牛の創傷性心外膜炎は、心外膜の炎症を伴う病態であり、通常は心外膜と心筋の間に炎症による液体が...   False  \n",
       "1  マレック病は家禽に感染するヘルペスウイルス科のウイルスによって引き起こされる病気です。この病...   False  \n",
       "2  兎出血病（Rabbit Hemorrhagic Disease, RHD）についての記述を検...   False  \n",
       "3  クラミジアは細菌の一種であり、様々な疾患を引き起こすことが知られています。選択肢からクラミジ...   False  \n",
       "4  トリ白血病・肉腫（鶏白血病）は、鶏に影響を与えるウイルス性の疾患であり、レトロウイルス科に属...   False  "
      ]
     },
     "execution_count": 6,
     "metadata": {},
     "output_type": "execute_result"
    }
   ],
   "source": [
    "exam74_result_df = pd.DataFrame(result74)\n",
    "exam74_result_df.head()"
   ]
  },
  {
   "cell_type": "code",
   "execution_count": 7,
   "metadata": {},
   "outputs": [],
   "source": [
    "exam74_result_df.to_csv('../data/cot-gpt4/exam-74-result.csv', index=False)"
   ]
  },
  {
   "cell_type": "code",
   "execution_count": 8,
   "metadata": {},
   "outputs": [
    {
     "data": {
      "text/html": [
       "<div>\n",
       "<style scoped>\n",
       "    .dataframe tbody tr th:only-of-type {\n",
       "        vertical-align: middle;\n",
       "    }\n",
       "\n",
       "    .dataframe tbody tr th {\n",
       "        vertical-align: top;\n",
       "    }\n",
       "\n",
       "    .dataframe thead th {\n",
       "        text-align: right;\n",
       "    }\n",
       "</style>\n",
       "<table border=\"1\" class=\"dataframe\">\n",
       "  <thead>\n",
       "    <tr style=\"text-align: right;\">\n",
       "      <th></th>\n",
       "      <th>no</th>\n",
       "      <th>question</th>\n",
       "      <th>answer_choices</th>\n",
       "      <th>answer</th>\n",
       "      <th>response</th>\n",
       "      <th>result</th>\n",
       "      <th>result_with_cot</th>\n",
       "    </tr>\n",
       "  </thead>\n",
       "  <tbody>\n",
       "    <tr>\n",
       "      <th>0</th>\n",
       "      <td>問5</td>\n",
       "      <td>牛の創傷性心外膜炎と関連のある病変・病態として最も適当なのはどれか。</td>\n",
       "      <td>１．心タンポナーデ\\n２．うっ血性心不全\\n３．心内膜の逆流性病変\\n４．虎斑心\\n５．真珠病</td>\n",
       "      <td>2</td>\n",
       "      <td>牛の創傷性心外膜炎は、心外膜の炎症を伴う病態であり、通常は心外膜と心筋の間に炎症による液体が...</td>\n",
       "      <td>False</td>\n",
       "      <td>False</td>\n",
       "    </tr>\n",
       "    <tr>\n",
       "      <th>1</th>\n",
       "      <td>問6</td>\n",
       "      <td>マレック病に関する記述として適当なのはどれか。</td>\n",
       "      <td>a  末梢神経線維の腫脹がみられる。\\nb  B リンパ球由来のリンパ腫である。\\nc  大...</td>\n",
       "      <td>2</td>\n",
       "      <td>マレック病は家禽に感染するヘルペスウイルス科のウイルスによって引き起こされる病気です。この病...</td>\n",
       "      <td>False</td>\n",
       "      <td>False</td>\n",
       "    </tr>\n",
       "    <tr>\n",
       "      <th>2</th>\n",
       "      <td>問8</td>\n",
       "      <td>兎出血病に関する記述として正しいのはどれか。</td>\n",
       "      <td>１．病原体はフラビウイルス科に属する。\\n２．感染経路は節足動物による生物学的伝播である。\\...</td>\n",
       "      <td>5</td>\n",
       "      <td>兎出血病（Rabbit Hemorrhagic Disease, RHD）についての記述を検...</td>\n",
       "      <td>False</td>\n",
       "      <td>False</td>\n",
       "    </tr>\n",
       "    <tr>\n",
       "      <th>3</th>\n",
       "      <td>問9</td>\n",
       "      <td>クラミジアによる疾患はどれか。</td>\n",
       "      <td>a  牛肺疫\\nb  Q 熱\\nc  オウム病\\nd  流行性羊流産\\ne  仮性皮疽\\n１...</td>\n",
       "      <td>4</td>\n",
       "      <td>クラミジアは細菌の一種であり、様々な疾患を引き起こすことが知られています。選択肢からクラミジ...</td>\n",
       "      <td>False</td>\n",
       "      <td>True</td>\n",
       "    </tr>\n",
       "    <tr>\n",
       "      <th>4</th>\n",
       "      <td>問10</td>\n",
       "      <td>トリ白血病・肉腫（鶏白血病）に関する記述として適切なのはどれか。</td>\n",
       "      <td>１．病原ウイルスは血清学的に単一である。\\n２．垂直感染しない。\\n３．増殖欠損型ウイルスは...</td>\n",
       "      <td>3</td>\n",
       "      <td>トリ白血病・肉腫（鶏白血病）は、鶏に影響を与えるウイルス性の疾患であり、レトロウイルス科に属...</td>\n",
       "      <td>False</td>\n",
       "      <td>False</td>\n",
       "    </tr>\n",
       "  </tbody>\n",
       "</table>\n",
       "</div>"
      ],
      "text/plain": [
       "    no                            question  \\\n",
       "0   問5  牛の創傷性心外膜炎と関連のある病変・病態として最も適当なのはどれか。   \n",
       "1   問6             マレック病に関する記述として適当なのはどれか。   \n",
       "2   問8              兎出血病に関する記述として正しいのはどれか。   \n",
       "3   問9                     クラミジアによる疾患はどれか。   \n",
       "4  問10    トリ白血病・肉腫（鶏白血病）に関する記述として適切なのはどれか。   \n",
       "\n",
       "                                      answer_choices  answer  \\\n",
       "0    １．心タンポナーデ\\n２．うっ血性心不全\\n３．心内膜の逆流性病変\\n４．虎斑心\\n５．真珠病       2   \n",
       "1  a  末梢神経線維の腫脹がみられる。\\nb  B リンパ球由来のリンパ腫である。\\nc  大...       2   \n",
       "2  １．病原体はフラビウイルス科に属する。\\n２．感染経路は節足動物による生物学的伝播である。\\...       5   \n",
       "3  a  牛肺疫\\nb  Q 熱\\nc  オウム病\\nd  流行性羊流産\\ne  仮性皮疽\\n１...       4   \n",
       "4  １．病原ウイルスは血清学的に単一である。\\n２．垂直感染しない。\\n３．増殖欠損型ウイルスは...       3   \n",
       "\n",
       "                                            response  result  result_with_cot  \n",
       "0  牛の創傷性心外膜炎は、心外膜の炎症を伴う病態であり、通常は心外膜と心筋の間に炎症による液体が...   False            False  \n",
       "1  マレック病は家禽に感染するヘルペスウイルス科のウイルスによって引き起こされる病気です。この病...   False            False  \n",
       "2  兎出血病（Rabbit Hemorrhagic Disease, RHD）についての記述を検...   False            False  \n",
       "3  クラミジアは細菌の一種であり、様々な疾患を引き起こすことが知られています。選択肢からクラミジ...   False             True  \n",
       "4  トリ白血病・肉腫（鶏白血病）は、鶏に影響を与えるウイルス性の疾患であり、レトロウイルス科に属...   False            False  "
      ]
     },
     "execution_count": 8,
     "metadata": {},
     "output_type": "execute_result"
    }
   ],
   "source": [
    "import pandas as pd\n",
    "\n",
    "exam74_result_manual_format_df = pd.read_csv('../data/cot-gpt4/exam-74-result-manual-format.csv')\n",
    "exam74_result_manual_format_df.head()"
   ]
  },
  {
   "cell_type": "code",
   "execution_count": 9,
   "metadata": {},
   "outputs": [
    {
     "name": "stdout",
     "output_type": "stream",
     "text": [
      "0.25\n"
     ]
    }
   ],
   "source": [
    "print(len(exam74_result_manual_format_df[exam74_result_manual_format_df['result_with_cot'] == True]) / len(exam74_result_manual_format_df))"
   ]
  }
 ],
 "metadata": {
  "kernelspec": {
   "display_name": ".venv",
   "language": "python",
   "name": "python3"
  },
  "language_info": {
   "codemirror_mode": {
    "name": "ipython",
    "version": 3
   },
   "file_extension": ".py",
   "mimetype": "text/x-python",
   "name": "python",
   "nbconvert_exporter": "python",
   "pygments_lexer": "ipython3",
   "version": "3.11.2"
  }
 },
 "nbformat": 4,
 "nbformat_minor": 2
}
